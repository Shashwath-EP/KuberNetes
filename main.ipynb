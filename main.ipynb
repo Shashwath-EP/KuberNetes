{
 "cells": [
  {
   "cell_type": "code",
   "execution_count": 32,
   "metadata": {},
   "outputs": [],
   "source": [
    "# Import necessary libraries\n",
    "import os\n",
    "import pandas as pd\n",
    "import numpy as np\n",
    "from sklearn.model_selection import train_test_split\n",
    "from sklearn.ensemble import RandomForestRegressor\n",
    "from sklearn.metrics import mean_squared_error, mean_absolute_error, r2_score\n",
    "from geopy.distance import geodesic\n",
    "import joblib"
   ]
  },
  {
   "cell_type": "code",
   "execution_count": 40,
   "metadata": {},
   "outputs": [
    {
     "name": "stdout",
     "output_type": "stream",
     "text": [
      "Data loaded successfully\n"
     ]
    }
   ],
   "source": [
    "# Download dataset from Kaggle (NYC Taxi Fare Prediction dataset)\n",
    "if not os.path.exists(\"train.csv\"):\n",
    "    os.system(\"kaggle competitions download -c new-york-city-taxi-fare-prediction -f train.csv --unzip\")\n",
    "\n",
    "# Load dataset with only the first 50 rows for quick testing\n",
    "data = pd.read_csv(\"train.csv\", nrows=1000000)\n",
    "print(\"Data loaded successfully\")\n",
    "\n",
    "# Data Cleaning and Preprocessing\n",
    "data.dropna(inplace=True)\n",
    "\n",
    "# Remove rows with fare amount less than $2.50 (base fare in NYC) or unrealistic values\n",
    "data = data[(data['fare_amount'] >= 2.5) & (data['fare_amount'] <= 250)]\n",
    "\n",
    "# Filter coordinates within NYC lat/lon bounds to remove outliers\n",
    "data = data[(data['pickup_longitude'] > -74.3) & (data['pickup_longitude'] < -72.9) &\n",
    "            (data['pickup_latitude'] > 40.5) & (data['pickup_latitude'] < 41.8) &\n",
    "            (data['dropoff_longitude'] > -74.3) & (data['dropoff_longitude'] < -72.9) &\n",
    "            (data['dropoff_latitude'] > 40.5) & (data['dropoff_latitude'] < 41.8)]\n",
    "\n",
    "# Feature Engineering\n",
    "def haversine_distance(row):\n",
    "    pickup = (row['pickup_latitude'], row['pickup_longitude'])\n",
    "    dropoff = (row['dropoff_latitude'], row['dropoff_longitude'])\n",
    "    return geodesic(pickup, dropoff).km\n",
    "\n",
    "# Calculate distance and add new features\n",
    "data['distance_km'] = data.apply(haversine_distance, axis=1)\n",
    "data['pickup_datetime'] = pd.to_datetime(data['pickup_datetime'])\n",
    "data['hour'] = data['pickup_datetime'].dt.hour\n",
    "data['day'] = data['pickup_datetime'].dt.day\n",
    "data['month'] = data['pickup_datetime'].dt.month\n",
    "data['day_of_week'] = data['pickup_datetime'].dt.dayofweek\n",
    "\n",
    "# Drop unnecessary columns\n",
    "data = data.drop(['key', 'pickup_datetime', 'pickup_longitude', 'pickup_latitude', \n",
    "                  'dropoff_longitude', 'dropoff_latitude'], axis=1)"
   ]
  },
  {
   "cell_type": "code",
   "execution_count": 41,
   "metadata": {},
   "outputs": [],
   "source": [
    "X = data.drop('fare_amount', axis=1)\n",
    "y = data['fare_amount']\n",
    "\n",
    "# Split data into training and testing sets\n",
    "X_train, X_test, y_train, y_test = train_test_split(X, y, test_size=0.2, random_state=42)\n",
    "\n",
    "# Train the Model\n",
    "model = RandomForestRegressor(n_estimators=100, random_state=42)"
   ]
  },
  {
   "cell_type": "code",
   "execution_count": 42,
   "metadata": {},
   "outputs": [
    {
     "name": "stdout",
     "output_type": "stream",
     "text": [
      "Model training completed\n"
     ]
    }
   ],
   "source": [
    "model.fit(X_train, y_train)\n",
    "print(\"Model training completed\")\n"
   ]
  },
  {
   "cell_type": "code",
   "execution_count": 43,
   "metadata": {},
   "outputs": [
    {
     "data": {
      "text/plain": [
       "['taxi_fare_model.pkl']"
      ]
     },
     "execution_count": 43,
     "metadata": {},
     "output_type": "execute_result"
    }
   ],
   "source": [
    "# Save the trained model\n",
    "joblib.dump(model, \"taxi_fare_model.pkl\")"
   ]
  },
  {
   "cell_type": "code",
   "execution_count": 44,
   "metadata": {},
   "outputs": [
    {
     "name": "stdout",
     "output_type": "stream",
     "text": [
      "RMSE: 4.694236623336654\n",
      "MAE: 2.4236026802967214\n",
      "R² Score: 0.7526407535368334\n",
      "MAPE: 24.730561419241976%\n"
     ]
    },
    {
     "name": "stderr",
     "output_type": "stream",
     "text": [
      "c:\\Python312\\Lib\\site-packages\\sklearn\\metrics\\_regression.py:483: FutureWarning: 'squared' is deprecated in version 1.4 and will be removed in 1.6. To calculate the root mean squared error, use the function'root_mean_squared_error'.\n",
      "  warnings.warn(\n"
     ]
    }
   ],
   "source": [
    "import matplotlib.pyplot as plt\n",
    "import seaborn as sns\n",
    "\n",
    "# Predict on test set\n",
    "y_pred = model.predict(X_test)\n",
    "\n",
    "# Calculate Evaluation Metrics\n",
    "rmse = mean_squared_error(y_test, y_pred, squared=False)  # Root Mean Squared Error\n",
    "mae = mean_absolute_error(y_test, y_pred)                # Mean Absolute Error\n",
    "r2 = r2_score(y_test, y_pred)                            # R-squared Score\n",
    "\n",
    "# Display metrics\n",
    "print(f\"RMSE: {rmse}\")\n",
    "print(f\"MAE: {mae}\")\n",
    "print(f\"R² Score: {r2}\")\n",
    "\n",
    "# Additional Metrics: Mean Absolute Percentage Error (MAPE)\n",
    "mape = np.mean(np.abs((y_test - y_pred) / y_test)) * 100\n",
    "print(f\"MAPE: {mape}%\")"
   ]
  },
  {
   "cell_type": "code",
   "execution_count": 45,
   "metadata": {},
   "outputs": [
    {
     "data": {
      "image/png": "[encoded data removed]",
      "text/plain": [
       "<Figure size 1000x600 with 1 Axes>"
      ]
     },
     "metadata": {},
     "output_type": "display_data"
    }
   ],
   "source": [
    "# 1. Residuals Plot\n",
    "plt.figure(figsize=(10, 6))\n",
    "sns.histplot(y_test - y_pred, kde=True, color='purple', bins=30)\n",
    "plt.title(\"Residuals Distribution\")\n",
    "plt.xlabel(\"Residuals (y_test - y_pred)\")\n",
    "plt.ylabel(\"Frequency\")\n",
    "plt.show()"
   ]
  },
  {
   "cell_type": "code",
   "execution_count": null,
   "metadata": {},
   "outputs": [],
   "source": []
  },
  {
   "cell_type": "code",
   "execution_count": null,
   "metadata": {},
   "outputs": [],
   "source": []
  },
  {
   "cell_type": "code",
   "execution_count": null,
   "metadata": {},
   "outputs": [],
   "source": []
  },
  {
   "cell_type": "code",
   "execution_count": null,
   "metadata": {},
   "outputs": [],
   "source": []
  }
 ],
 "metadata": {
  "kernelspec": {
   "display_name": "Python 3",
   "language": "python",
   "name": "python3"
  },
  "language_info": {
   "codemirror_mode": {
    "name": "ipython",
    "version": 3
   },
   "file_extension": ".py",
   "mimetype": "text/x-python",
   "name": "python",
   "nbconvert_exporter": "python",
   "pygments_lexer": "ipython3",
   "version": "3.12.5"
  }
 },
 "nbformat": 4,
 "nbformat_minor": 2
}
